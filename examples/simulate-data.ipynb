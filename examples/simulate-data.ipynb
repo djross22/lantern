{
 "cells": [
  {
   "cell_type": "markdown",
   "metadata": {},
   "source": [
    "# Simulating a GPL dataset"
   ]
  },
  {
   "cell_type": "code",
   "execution_count": null,
   "metadata": {},
   "outputs": [],
   "source": [
    "import string\n",
    "import pandas as pd\n",
    "\n",
    "from itertools import combinations\n",
    "from gpytorch.kernels import RQKernel\n",
    "import torch\n",
    "import numpy as np\n",
    "import matplotlib.pyplot as plt\n",
    "\n",
    "%matplotlib inline"
   ]
  },
  {
   "cell_type": "markdown",
   "metadata": {},
   "source": [
    "## One-dimensional data"
   ]
  },
  {
   "cell_type": "markdown",
   "metadata": {},
   "source": [
    "We build a one dimensional model"
   ]
  },
  {
   "cell_type": "code",
   "execution_count": null,
   "metadata": {},
   "outputs": [],
   "source": [
    "def sim(seed, p=5):\n",
    "\n",
    "    N = 2 ** p\n",
    "    torch.random.manual_seed(seed)\n",
    "    W = torch.randn(p, 1) * np.sqrt(2)\n",
    "\n",
    "    X = torch.zeros(N, p)\n",
    "    ind = 1\n",
    "\n",
    "    # for all # of mutations\n",
    "    for mutations in range(1, p + 1):\n",
    "\n",
    "        # for selected combination of mutations for a variant\n",
    "        for variant in combinations(range(p), mutations):\n",
    "\n",
    "            # for each selected\n",
    "            for s in variant:\n",
    "                X[ind, s] = 1\n",
    "\n",
    "            # update after variant\n",
    "            ind += 1\n",
    "\n",
    "    z = torch.mm(X, W)\n",
    "    Z = torch.linspace(z.min(), z.max(), 100)[:, None]\n",
    "    z_samp = torch.cat((z, Z), 0)\n",
    "\n",
    "    kernel = RQKernel()\n",
    "    with torch.no_grad():\n",
    "        K = kernel(z_samp).evaluate()  # + 0.05 * torch.eye(N)\n",
    "        f = torch.distributions.MultivariateNormal(\n",
    "            torch.zeros(N + 100), K + torch.eye(N + 100) * 1e-5\n",
    "        ).rsample()\n",
    "\n",
    "    y = f[:N] + torch.randn(N) * 0.15\n",
    "\n",
    "    return W, X, z, y, Z, f[N:]\n",
    "\n",
    "\n",
    "W, X, z, y, Z, f = sim(100)\n",
    "\n",
    "plt.plot(Z, f)\n",
    "plt.scatter(z, y)"
   ]
  },
  {
   "cell_type": "markdown",
   "metadata": {},
   "source": [
    "## Two-dimensional data"
   ]
  },
  {
   "cell_type": "code",
   "execution_count": null,
   "metadata": {},
   "outputs": [],
   "source": [
    "def sim(seed, p=5):\n",
    "\n",
    "    N = 2 ** p\n",
    "    torch.random.manual_seed(seed)\n",
    "    W = torch.randn(p, 1) * np.sqrt(2)\n",
    "\n",
    "    X = torch.zeros(N, p)\n",
    "    ind = 1\n",
    "\n",
    "    # for all # of mutations\n",
    "    for mutations in range(1, p + 1):\n",
    "\n",
    "        # for selected combination of mutations for a variant\n",
    "        for variant in combinations(range(p), mutations):\n",
    "\n",
    "            # for each selected\n",
    "            for s in variant:\n",
    "                X[ind, s] = 1\n",
    "\n",
    "            # update after variant\n",
    "            ind += 1\n",
    "\n",
    "    z = torch.mm(X, W)\n",
    "    Z = torch.linspace(z.min(), z.max(), 100)[:, None]\n",
    "    z_samp = torch.cat((z, Z), 0)\n",
    "\n",
    "    kernel = RQKernel()\n",
    "    with torch.no_grad():\n",
    "        K = kernel(z_samp).evaluate()  # + 0.05 * torch.eye(N)\n",
    "        f = torch.distributions.MultivariateNormal(\n",
    "            torch.zeros(N + 100), K + torch.eye(N + 100) * 1e-5\n",
    "        ).rsample()\n",
    "\n",
    "    y = f[:N] + torch.randn(N) * 0.15\n",
    "\n",
    "    return W, X, z, y, Z, f[N:]\n",
    "\n",
    "\n",
    "W, X, z, y, Z, f = sim(100)\n",
    "\n",
    "plt.plot(Z, f)\n",
    "plt.scatter(z, y)"
   ]
  },
  {
   "cell_type": "code",
   "execution_count": null,
   "metadata": {},
   "outputs": [],
   "source": []
  }
 ],
 "metadata": {
  "kernelspec": {
   "display_name": "Python 3",
   "language": "python",
   "name": "python3"
  },
  "language_info": {
   "codemirror_mode": {
    "name": "ipython",
    "version": 3
   },
   "file_extension": ".py",
   "mimetype": "text/x-python",
   "name": "python",
   "nbconvert_exporter": "python",
   "pygments_lexer": "ipython3",
   "version": "3.9.4"
  }
 },
 "nbformat": 4,
 "nbformat_minor": 4
}
