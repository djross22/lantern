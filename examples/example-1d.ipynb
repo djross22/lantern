{
 "cells": [
  {
   "cell_type": "markdown",
   "metadata": {},
   "source": [
    "# Simulated one-dimensional latent space"
   ]
  },
  {
   "cell_type": "code",
   "execution_count": null,
   "metadata": {},
   "outputs": [],
   "source": [
    "import string\n",
    "import pandas as pd\n",
    "\n",
    "from itertools import combinations\n",
    "from gpytorch.kernels import RQKernel\n",
    "import torch\n",
    "import numpy as np\n",
    "import matplotlib.pyplot as plt\n",
    "\n",
    "%matplotlib inline"
   ]
  },
  {
   "cell_type": "markdown",
   "metadata": {},
   "source": [
    "## Simulate data"
   ]
  },
  {
   "cell_type": "code",
   "execution_count": null,
   "metadata": {},
   "outputs": [],
   "source": [
    "def sim(seed, p=5):\n",
    "\n",
    "    N = 2 ** p\n",
    "    torch.random.manual_seed(seed)\n",
    "    W = torch.randn(p, 1) * np.sqrt(2) - .1\n",
    "\n",
    "    X = torch.zeros(N, p)\n",
    "    ind = 1\n",
    "\n",
    "    # for all # of mutations\n",
    "    for mutations in range(1, p + 1):\n",
    "\n",
    "        # for selected combination of mutations for a variant\n",
    "        for variant in combinations(range(p), mutations):\n",
    "\n",
    "            # for each selected\n",
    "            for s in variant:\n",
    "                X[ind, s] = 1\n",
    "\n",
    "            # update after variant\n",
    "            ind += 1\n",
    "\n",
    "    z = torch.mm(X, W)\n",
    "    Z = torch.linspace(z.min(), z.max(), 100)[:, None]\n",
    "    z_samp = torch.cat((z, Z), 0)\n",
    "\n",
    "    kernel = RQKernel()\n",
    "    with torch.no_grad():\n",
    "        K = kernel(z_samp).evaluate()\n",
    "        f = torch.distributions.MultivariateNormal(\n",
    "            torch.zeros(N + 100), 0.005 * K + torch.eye(N + 100) * 1e-7\n",
    "        ).rsample() + torch.sigmoid(z_samp[:, 0])\n",
    "        \n",
    "    y = f[:N] + torch.randn(N) * 0.15\n",
    "\n",
    "    return W, X, z, y, Z, f[N:]\n",
    "\n",
    "p = 5\n",
    "W, X, z, y, Z, f = sim(100, p=p)\n",
    "\n",
    "plt.figure(figsize=(4, 3), dpi=300)\n",
    "plt.plot(Z, f)\n",
    "plt.scatter(z, y, c=\"C2\", alpha=0.8)\n",
    "plt.axvline(0, c=\"k\", ls=\"--\")\n",
    "\n",
    "for i in range(p):\n",
    "    plt.arrow(0, -.05*i, W[i].item(), 0, color=f\"C{3+i}\", width=0.01)\n",
    "    \n",
    "plt.ylabel(\"phenotype\")\n",
    "plt.xlabel(\"$z_1$\")\n",
    "    \n",
    "None"
   ]
  },
  {
   "cell_type": "markdown",
   "metadata": {},
   "source": [
    "### Convert to dataframe"
   ]
  },
  {
   "cell_type": "code",
   "execution_count": null,
   "metadata": {},
   "outputs": [],
   "source": [
    "df = pd.DataFrame(\n",
    "    {\n",
    "        \"substitutions\": [\n",
    "            \":\".join(\n",
    "                [\n",
    "                    \"+{}\".format(string.ascii_lowercase[i])\n",
    "                    for i in np.where(X[j, :].numpy())[0]\n",
    "                ]\n",
    "            )\n",
    "            for j in range(X.shape[0])\n",
    "        ],\n",
    "        \"phenotype\": y,\n",
    "    },\n",
    ")\n",
    "\n",
    "df.head()"
   ]
  },
  {
   "cell_type": "markdown",
   "metadata": {},
   "source": [
    "### Build LANTERN dataset"
   ]
  },
  {
   "cell_type": "code",
   "execution_count": null,
   "metadata": {},
   "outputs": [],
   "source": [
    "from lantern.dataset import Dataset\n",
    "ds = Dataset(df)\n",
    "ds"
   ]
  },
  {
   "cell_type": "code",
   "execution_count": null,
   "metadata": {},
   "outputs": [],
   "source": [
    "# 32 observations\n",
    "len(ds)"
   ]
  },
  {
   "cell_type": "code",
   "execution_count": null,
   "metadata": {},
   "outputs": [],
   "source": [
    "# get the first element (a tuple of x_0, y_0)\n",
    "ds[0]"
   ]
  },
  {
   "cell_type": "markdown",
   "metadata": {},
   "source": [
    "## Build model"
   ]
  },
  {
   "cell_type": "code",
   "execution_count": null,
   "metadata": {},
   "outputs": [],
   "source": [
    "from lantern.model.basis import VariationalBasis\n",
    "\n",
    "basis = VariationalBasis.fromDataset(ds, K=8, meanEffectsInit=True)"
   ]
  },
  {
   "cell_type": "code",
   "execution_count": null,
   "metadata": {},
   "outputs": [],
   "source": [
    "from lantern.model.surface import Phenotype\n",
    "\n",
    "surface = Phenotype.fromDataset(ds, K=8)"
   ]
  },
  {
   "cell_type": "code",
   "execution_count": null,
   "metadata": {},
   "outputs": [],
   "source": [
    "from lantern.model import Model\n",
    "\n",
    "model = Model(basis, surface)"
   ]
  },
  {
   "cell_type": "markdown",
   "metadata": {},
   "source": [
    "## Train model"
   ]
  },
  {
   "cell_type": "code",
   "execution_count": null,
   "metadata": {},
   "outputs": [],
   "source": [
    "from torch.optim import Adam\n",
    "\n",
    "loss = model.loss(N=len(ds))\n",
    "X, y = ds[: len(ds)]\n",
    "\n",
    "optimizer = Adam(loss.parameters(), lr=0.01)\n",
    "hist = []\n",
    "for i in range(500):\n",
    "    optimizer.zero_grad()\n",
    "    yhat = model(X)\n",
    "    lss = loss(yhat, y)\n",
    "    total = sum(lss.values())\n",
    "    total.backward()\n",
    "    optimizer.step()\n",
    "    hist.append(total.item())\n",
    "\n",
    "plt.figure(figsize=(4, 3), dpi=300)\n",
    "plt.plot(hist)\n",
    "plt.xlabel(\"epoch\")\n",
    "plt.ylabel(\"loss\")"
   ]
  },
  {
   "cell_type": "code",
   "execution_count": null,
   "metadata": {},
   "outputs": [],
   "source": []
  }
 ],
 "metadata": {
  "kernelspec": {
   "display_name": "lantern",
   "language": "python",
   "name": "lantern"
  },
  "language_info": {
   "codemirror_mode": {
    "name": "ipython",
    "version": 3
   },
   "file_extension": ".py",
   "mimetype": "text/x-python",
   "name": "python",
   "nbconvert_exporter": "python",
   "pygments_lexer": "ipython3",
   "version": "3.9.4"
  }
 },
 "nbformat": 4,
 "nbformat_minor": 4
}
